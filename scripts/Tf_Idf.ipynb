{
 "cells": [
  {
   "cell_type": "code",
   "execution_count": 12,
   "metadata": {
    "collapsed": true
   },
   "outputs": [],
   "source": [
    "import numpy as np\n",
    "import random\n",
    "from sklearn.feature_extraction.text import TfidfVectorizer\n",
    "from sklearn.metrics.pairwise import linear_kernel\n",
    "from preprocess import *\n",
    "import nltk\n"
   ]
  },
  {
   "cell_type": "code",
   "execution_count": 13,
   "metadata": {
    "collapsed": true
   },
   "outputs": [],
   "source": [
    "def discard_from_set(s, discard_items):\n",
    "    for item in discard_items:\n",
    "        s.discard(item)\n",
    "        \n",
    "discard_items = ['', ' ']\n",
    "\n",
    "\n",
    "def parse_tweets(fn):\n",
    "\n",
    "    f = open(fn, 'r')\n",
    "    tweets_text = f.read().lower()\n",
    "    f.close()\n",
    "\n",
    "    tweets = tweets_text.split('\\n!@#$%\\n')\n",
    "    tweets = [tweet.lower().strip() for tweet in tweets]\n",
    "    tweets = set(tweets)\n",
    "    \n",
    "    discard_from_set(tweets, discard_items)\n",
    "\n",
    "    return tweets"
   ]
  },
  {
   "cell_type": "code",
   "execution_count": 14,
   "metadata": {
    "collapsed": false
   },
   "outputs": [
    {
     "name": "stdout",
     "output_type": "stream",
     "text": [
      "Number of filtered tweets: 0 in tag: HillaryClinton\n",
      "Total Tweets in pro  6206\n"
     ]
    }
   ],
   "source": [
    "pro_tags = ['HillaryClinton']#, 'prolife', 'defundpp', 'stand4life', 'ChooseLife']\n",
    "con_tags = ['realDonaldTrump']#, 'StandWithPP', 'reprorights', 'protectchoice']\n",
    "\n",
    "#pro_tags = ['realDonaldTrump']#, 'prolife', 'defundpp', 'stand4life', 'ChooseLife']\n",
    "#con_tags = ['HillaryClinton']#, 'StandWithPP', 'reprorights', 'protectchoice']\n",
    "\n",
    "pro_tags_filter = {tag.lower() for tag in ['#prochoice']}\n",
    "con_tags_filter = {tag.lower() for tag in ['#prolife']}\n",
    "\n",
    "pro_tweets = set()\n",
    "for tag in pro_tags:\n",
    "    current_tweets = parse_tweets('/home/shreya/workspace/AdvanceProject/Tweets_HT/TweetsProcess/'+tag + '.txt')\n",
    "    \n",
    "    pre_processed_tweets = []\n",
    "    c = 0\n",
    "    for tweet in current_tweets:\n",
    "        #if not contains_both_tags(tweet, pro_tags_filter, con_tags_filter):\n",
    "        tweet = preprocess(tweet).strip()\n",
    "        tweet = filter_tweets(tweet, tag.lower())\n",
    "        if len(tweet) > 0: pre_processed_tweets.append(tweet)\n",
    "        #else:\n",
    "        #    c += 1\n",
    "\n",
    "    print 'Number of filtered tweets: {0} in tag: {1}'.format(c, tag)\n",
    "    print \"Total Tweets in pro \", len(pre_processed_tweets)\n",
    "        \n",
    "    \n",
    "    pro_tweets.update(pre_processed_tweets)"
   ]
  },
  {
   "cell_type": "code",
   "execution_count": 15,
   "metadata": {
    "collapsed": false
   },
   "outputs": [
    {
     "name": "stdout",
     "output_type": "stream",
     "text": [
      "Number of filtered tweets: 0 in tag: realDonaldTrump\n",
      "Total Tweets in pro  21365\n"
     ]
    }
   ],
   "source": [
    "con_tweets = set()\n",
    "for tag in con_tags:\n",
    "    current_tweets = parse_tweets('/home/shreya/workspace/AdvanceProject/Tweets_HT/TweetsProcess/'+tag + '.txt')\n",
    "    \n",
    "    pre_processed_tweets = []\n",
    "    c = 0\n",
    "    \n",
    "    for tweet in current_tweets:\n",
    "        #if not contains_both_tags(tweet, pro_tags_filter, con_tags_filter):\n",
    "        tweet = preprocess(tweet).strip()\n",
    "        tweet = filter_tweets(tweet, tag.lower())\n",
    "        \n",
    "        if len(tweet) > 0: pre_processed_tweets.append(tweet)\n",
    "        #else:\n",
    "        #    c += 1 \n",
    "\n",
    "    print 'Number of filtered tweets: {0} in tag: {1}'.format(c, tag)\n",
    "    print \"Total Tweets in pro \", len(pre_processed_tweets)\n",
    "    \n",
    "    con_tweets.update(pre_processed_tweets)"
   ]
  },
  {
   "cell_type": "code",
   "execution_count": 16,
   "metadata": {
    "collapsed": false
   },
   "outputs": [
    {
     "name": "stdout",
     "output_type": "stream",
     "text": [
      "Number of pro and con tweets: 6175, 21275\n"
     ]
    }
   ],
   "source": [
    "discard_from_set(pro_tweets, discard_items)\n",
    "discard_from_set(con_tweets, discard_items)\n",
    "\n",
    "pro_tweets = list(pro_tweets)\n",
    "con_tweets = list(con_tweets)\n",
    "\n",
    "con_start_idx = len(pro_tweets)\n",
    "\n",
    "tweets = pro_tweets + con_tweets\n",
    "\n",
    "print 'Number of pro and con tweets: {0}, {1}'.format(len(pro_tweets), len(con_tweets))"
   ]
  },
  {
   "cell_type": "code",
   "execution_count": 17,
   "metadata": {
    "collapsed": true
   },
   "outputs": [],
   "source": [
    "def tokenize(text):\n",
    "    tokens = nltk.word_tokenize(text)\n",
    "    nouns = [word for (word, pos) in nltk.pos_tag(tokens) if pos.startswith('N')] \n",
    "    \n",
    "    return tokens"
   ]
  },
  {
   "cell_type": "code",
   "execution_count": 18,
   "metadata": {
    "collapsed": false
   },
   "outputs": [
    {
     "name": "stderr",
     "output_type": "stream",
     "text": [
      "/usr/local/lib/python2.7/dist-packages/numpy/core/fromnumeric.py:2645: VisibleDeprecationWarning: `rank` is deprecated; use the `ndim` attribute or function instead. To find the rank of a matrix see `numpy.linalg.matrix_rank`.\n",
      "  VisibleDeprecationWarning)\n"
     ]
    }
   ],
   "source": [
    "vectorizer = TfidfVectorizer()\n",
    "tfidf_vecs = vectorizer.fit_transform(tweets)\n",
    "\n"
   ]
  },
  {
   "cell_type": "code",
   "execution_count": 19,
   "metadata": {
    "collapsed": true
   },
   "outputs": [],
   "source": [
    "dir_path = '/home/shreya/workspace/AdvanceProject/Tweets_HT/TweetsProcess/'\n",
    "#file_out = open(dir_path+'Hillary_thresh_2.txt', 'w')\n",
    "#file_out1 = open(dir_path+'Trump_thresh_2.txt', 'w')\n",
    "\n",
    "file_out = open(dir_path+'Hillary_thresh_stop.txt', 'w')\n",
    "file_out1 = open(dir_path+'Trump_thresh_stop.txt', 'w')"
   ]
  },
  {
   "cell_type": "code",
   "execution_count": 20,
   "metadata": {
    "collapsed": false
   },
   "outputs": [],
   "source": [
    "k = 5\n",
    "\n",
    "for i in range(0, len(pro_tweets)):\n",
    "#for i in random.sample(range(con_start_idx), 5):\n",
    "    cosine_similarities = linear_kernel(tfidf_vecs[i:i+1], tfidf_vecs)\n",
    "    cosine_similarities = cosine_similarities.flatten()\n",
    "    sorted_idx = np.argsort(cosine_similarities)[::-1]\n",
    "    \n",
    "   \n",
    "        \n",
    "    topk_pro = []\n",
    "    topk_con = []\n",
    "\n",
    "    for idx in sorted_idx:\n",
    "        if idx < con_start_idx and idx != i:\n",
    "            if cosine_similarities[idx] >= 0.2:\n",
    "                tweet_score = str(tweets[idx])#+\"\\t\"+str(cosine_similarities[idx])\n",
    "                topk_pro.append(tweet_score)\n",
    "                if len(topk_pro) == k:\n",
    "                    break\n",
    "            else:\n",
    "                break\n",
    "\n",
    "    for idx in sorted_idx:\n",
    "        if idx >= con_start_idx and idx != i:\n",
    "            if cosine_similarities[idx] >= 0.2:\n",
    "                tweet_score = str(tweets[idx])#+\"\\t\"+str(cosine_similarities[idx])\n",
    "                topk_con.append(tweet_score)\n",
    "                if len(topk_con) == k:\n",
    "                    break\n",
    "            else:\n",
    "                break\n",
    "        \n",
    "    for tweet in topk_con:\n",
    "        file_out.write(str(tweets[i])+\"\\n\")\n",
    "        file_out1.write(str(tweet)+\"\\n\")"
   ]
  },
  {
   "cell_type": "code",
   "execution_count": 21,
   "metadata": {
    "collapsed": true
   },
   "outputs": [],
   "source": [
    "file_out.close()\n",
    "file_out1.close()"
   ]
  },
  {
   "cell_type": "code",
   "execution_count": null,
   "metadata": {
    "collapsed": true
   },
   "outputs": [],
   "source": []
  }
 ],
 "metadata": {
  "kernelspec": {
   "display_name": "Python 2",
   "language": "python",
   "name": "python2"
  },
  "language_info": {
   "codemirror_mode": {
    "name": "ipython",
    "version": 2
   },
   "file_extension": ".py",
   "mimetype": "text/x-python",
   "name": "python",
   "nbconvert_exporter": "python",
   "pygments_lexer": "ipython2",
   "version": "2.7.6"
  }
 },
 "nbformat": 4,
 "nbformat_minor": 0
}
